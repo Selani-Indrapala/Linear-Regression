{
 "cells": [
  {
   "cell_type": "code",
   "execution_count": 1,
   "metadata": {},
   "outputs": [
    {
     "name": "stdout",
     "output_type": "stream",
     "text": [
      "   sample index     TV  radio  newspaper  sales\n",
      "0             1  230.1   37.8       69.2   22.1\n",
      "1             2   44.5   39.3       45.1   10.4\n",
      "2             3   17.2   45.9       69.3    9.3\n",
      "3             4  151.5   41.3       58.5   18.5\n",
      "4             5  180.8   10.8       58.4   12.9\n"
     ]
    }
   ],
   "source": [
    "import numpy as np\n",
    "import pandas as pd\n",
    "from sklearn.model_selection import train_test_split\n",
    "\n",
    "#Load data from CSV\n",
    "\n",
    "file_path = r'Advertising.csv'\n",
    "\n",
    "df = pd.read_csv(file_path)\n",
    "\n",
    "print(df.head())"
   ]
  },
  {
   "cell_type": "code",
   "execution_count": 2,
   "metadata": {},
   "outputs": [
    {
     "name": "stdout",
     "output_type": "stream",
     "text": [
      "Shape of X:  (200, 3)\n",
      "Shape of y:  (200, 1)\n",
      "Shape of training set:  (160, 3)\n"
     ]
    }
   ],
   "source": [
    "X = df.iloc[:,1:-1]\n",
    "y = df.iloc[:,-1:]\n",
    "x_train, x_test, y_train, y_test = train_test_split(X, y, train_size= 0.8, random_state = 42)\n",
    "print(\"Shape of X: \", X.shape)\n",
    "print(\"Shape of y: \", y.shape)\n",
    "print(\"Shape of training set: \", x_train.shape)"
   ]
  },
  {
   "cell_type": "code",
   "execution_count": 14,
   "metadata": {},
   "outputs": [
    {
     "name": "stdout",
     "output_type": "stream",
     "text": [
      "[[0.04472952 0.18919505 0.00276111]]\n",
      "[2.97906734]\n",
      "Y = 2.9790673381226256 + 0.044729517468716326*TV + 0.1891950542343766*Radio + 0.0027611143413672056*Newspaper\n"
     ]
    }
   ],
   "source": [
    "from sklearn.linear_model import LinearRegression\n",
    "\n",
    "trained_data = LinearRegression().fit(x_train,y_train)\n",
    "print(trained_data.coef_)\n",
    "print(trained_data.intercept_)\n",
    "\n",
    "print(\"Y =\",str(trained_data.intercept_[0]),\"+\",str(trained_data.coef_[0][0])+\"*TV +\",str(trained_data.coef_[0][1])+\"*Radio +\",\n",
    "      str(trained_data.coef_[0][2])+\"*Newspaper\")"
   ]
  },
  {
   "cell_type": "code",
   "execution_count": 6,
   "metadata": {},
   "outputs": [
    {
     "name": "stdout",
     "output_type": "stream",
     "text": [
      "RSS test data: 126.96389415904417\n",
      "RSS train data: 432.82070769302624\n"
     ]
    }
   ],
   "source": [
    "import sklearn.metrics\n",
    "\n",
    "y_predict_test = trained_data.predict(x_test)\n",
    "y_predict_train = trained_data.predict(x_train)\n",
    "\n",
    "RSS1 = np.sum(np.square(y_predict_test-y_test))\n",
    "print(\"RSS test data:\", np.squeeze(RSS1))\n",
    "RSS2 = np.sum(np.square(y_predict_train-y_train))\n",
    "print(\"RSS train data:\", np.squeeze(RSS2))"
   ]
  },
  {
   "cell_type": "code",
   "execution_count": 7,
   "metadata": {},
   "outputs": [
    {
     "name": "stdout",
     "output_type": "stream",
     "text": [
      "RSE test data:  1.877970936343592\n",
      "RSE train data:  1.6656805564035793\n"
     ]
    }
   ],
   "source": [
    "RSE1 = np.sqrt(RSS1/(y_test.shape[0]-4))\n",
    "print(\"RSE test data: \",np.squeeze(RSE1))\n",
    "RSE2 = np.sqrt(RSS2/(y_train.shape[0]-4))\n",
    "print(\"RSE train data: \",np.squeeze(RSE2))"
   ]
  },
  {
   "cell_type": "code",
   "execution_count": 8,
   "metadata": {},
   "outputs": [
    {
     "name": "stdout",
     "output_type": "stream",
     "text": [
      "MSE test data:  3.174097353976104\n",
      "MSE train data:  2.705129423081414\n"
     ]
    }
   ],
   "source": [
    "MSE = sklearn.metrics.mean_squared_error(y_test,y_predict_test)\n",
    "print(\"MSE test data: \",MSE)\n",
    "MSE = sklearn.metrics.mean_squared_error(y_train,y_predict_train)\n",
    "print(\"MSE train data: \",MSE)"
   ]
  },
  {
   "cell_type": "code",
   "execution_count": 9,
   "metadata": {},
   "outputs": [
    {
     "name": "stdout",
     "output_type": "stream",
     "text": [
      "R2 test data:  0.899438024100912\n",
      "R2 train data:  0.8957008271017817\n"
     ]
    }
   ],
   "source": [
    "R2 = sklearn.metrics.r2_score(y_test,y_predict_test)\n",
    "print(\"R2 test data: \",R2)\n",
    "R2 = sklearn.metrics.r2_score(y_train,y_predict_train)\n",
    "print(\"R2 train data: \",R2)"
   ]
  },
  {
   "cell_type": "code",
   "execution_count": 11,
   "metadata": {},
   "outputs": [
    {
     "name": "stdout",
     "output_type": "stream",
     "text": [
      "                            OLS Regression Results                            \n",
      "==============================================================================\n",
      "Dep. Variable:                  sales   R-squared:                       0.896\n",
      "Model:                            OLS   Adj. R-squared:                  0.894\n",
      "Method:                 Least Squares   F-statistic:                     446.6\n",
      "Date:                Mon, 11 Sep 2023   Prob (F-statistic):           2.53e-76\n",
      "Time:                        14:00:49   Log-Likelihood:                -306.64\n",
      "No. Observations:                 160   AIC:                             621.3\n",
      "Df Residuals:                     156   BIC:                             633.6\n",
      "Df Model:                           3                                         \n",
      "Covariance Type:            nonrobust                                         \n",
      "==============================================================================\n",
      "                 coef    std err          t      P>|t|      [0.025      0.975]\n",
      "------------------------------------------------------------------------------\n",
      "const          2.9791      0.354      8.427      0.000       2.281       3.677\n",
      "TV             0.0447      0.002     28.544      0.000       0.042       0.048\n",
      "radio          0.1892      0.010     19.518      0.000       0.170       0.208\n",
      "newspaper      0.0028      0.007      0.392      0.696      -0.011       0.017\n",
      "==============================================================================\n",
      "Omnibus:                       67.697   Durbin-Watson:                   2.161\n",
      "Prob(Omnibus):                  0.000   Jarque-Bera (JB):              240.326\n",
      "Skew:                          -1.627   Prob(JB):                     6.52e-53\n",
      "Kurtosis:                       8.046   Cond. No.                         471.\n",
      "==============================================================================\n",
      "\n",
      "Notes:\n",
      "[1] Standard Errors assume that the covariance matrix of the errors is correctly specified.\n"
     ]
    }
   ],
   "source": [
    "import statsmodels.api as sm\n",
    "\n",
    "intercept=sm.add_constant(x_train)\n",
    "Model=sm.OLS(y_train,intercept).fit()\n",
    "\n",
    "print(Model.summary())"
   ]
  },
  {
   "cell_type": "code",
   "execution_count": 12,
   "metadata": {},
   "outputs": [
    {
     "name": "stdout",
     "output_type": "stream",
     "text": [
      "                            OLS Regression Results                            \n",
      "==============================================================================\n",
      "Dep. Variable:                  sales   R-squared:                       0.910\n",
      "Model:                            OLS   Adj. R-squared:                  0.902\n",
      "Method:                 Least Squares   F-statistic:                     120.8\n",
      "Date:                Mon, 11 Sep 2023   Prob (F-statistic):           7.51e-19\n",
      "Time:                        14:00:54   Log-Likelihood:                -77.715\n",
      "No. Observations:                  40   AIC:                             163.4\n",
      "Df Residuals:                      36   BIC:                             170.2\n",
      "Df Model:                           3                                         \n",
      "Covariance Type:            nonrobust                                         \n",
      "==============================================================================\n",
      "                 coef    std err          t      P>|t|      [0.025      0.975]\n",
      "------------------------------------------------------------------------------\n",
      "const          2.8305      0.692      4.090      0.000       1.427       4.234\n",
      "TV             0.0498      0.003     15.720      0.000       0.043       0.056\n",
      "radio          0.1826      0.020      9.352      0.000       0.143       0.222\n",
      "newspaper     -0.0115      0.011     -1.036      0.307      -0.034       0.011\n",
      "==============================================================================\n",
      "Omnibus:                        5.227   Durbin-Watson:                   1.725\n",
      "Prob(Omnibus):                  0.073   Jarque-Bera (JB):                2.514\n",
      "Skew:                          -0.335   Prob(JB):                        0.284\n",
      "Kurtosis:                       1.971   Cond. No.                         410.\n",
      "==============================================================================\n",
      "\n",
      "Notes:\n",
      "[1] Standard Errors assume that the covariance matrix of the errors is correctly specified.\n"
     ]
    }
   ],
   "source": [
    "intercept=sm.add_constant(x_test)\n",
    "Model=sm.OLS(y_test,intercept).fit()\n",
    "\n",
    "print(Model.summary())"
   ]
  },
  {
   "cell_type": "code",
   "execution_count": 40,
   "metadata": {},
   "outputs": [
    {
     "name": "stdout",
     "output_type": "stream",
     "text": [
      "Predicted sales for both TV and Radio =  8.827181630699949\n",
      "Predicted sales for only TV =  5.215543211558442\n",
      "Predicted sales for only Radio =  12.438820049841455\n"
     ]
    }
   ],
   "source": [
    "data = {'TV': [25],'radio': [25],'newspaper': [0]}\n",
    "df1 = pd.DataFrame(data)\n",
    "test1_predict = trained_data.predict(df1)\n",
    "print('Predicted sales for both TV and Radio = ',test1_predict[0][0])\n",
    "\n",
    "data = {'TV': [50],'radio': [0],'newspaper': [0]}\n",
    "df1 = pd.DataFrame(data)\n",
    "test1_predict = trained_data.predict(df1)\n",
    "print('Predicted sales for only TV = ',test1_predict[0][0])\n",
    "\n",
    "data = {'TV': [0],'radio': [50],'newspaper': [0]}\n",
    "df1 = pd.DataFrame(data)\n",
    "test1_predict = trained_data.predict(df1)\n",
    "print('Predicted sales for only Radio = ',test1_predict[0][0])\n"
   ]
  }
 ],
 "metadata": {
  "kernelspec": {
   "display_name": "Python 3",
   "language": "python",
   "name": "python3"
  },
  "language_info": {
   "codemirror_mode": {
    "name": "ipython",
    "version": 3
   },
   "file_extension": ".py",
   "mimetype": "text/x-python",
   "name": "python",
   "nbconvert_exporter": "python",
   "pygments_lexer": "ipython3",
   "version": "3.9.2"
  },
  "orig_nbformat": 4
 },
 "nbformat": 4,
 "nbformat_minor": 2
}

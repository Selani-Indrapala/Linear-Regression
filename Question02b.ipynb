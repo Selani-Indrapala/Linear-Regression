{
 "cells": [
  {
   "cell_type": "code",
   "execution_count": 1,
   "metadata": {},
   "outputs": [
    {
     "name": "stdout",
     "output_type": "stream",
     "text": [
      "   sample index     TV  radio  newspaper  sales\n",
      "0             1  230.1   37.8       69.2   22.1\n",
      "1             2   44.5   39.3       45.1   10.4\n",
      "2             3   17.2   45.9       69.3    9.3\n",
      "3             4  151.5   41.3       58.5   18.5\n",
      "4             5  180.8   10.8       58.4   12.9\n"
     ]
    }
   ],
   "source": [
    "import numpy as np\n",
    "import pandas as pd\n",
    "from sklearn.model_selection import train_test_split\n",
    "\n",
    "#Load data from CSV\n",
    "\n",
    "file_path = r'Advertising.csv'\n",
    "\n",
    "df = pd.read_csv(file_path)\n",
    "\n",
    "print(df.head())"
   ]
  },
  {
   "cell_type": "code",
   "execution_count": 2,
   "metadata": {},
   "outputs": [
    {
     "name": "stdout",
     "output_type": "stream",
     "text": [
      "Shape of X:  (200, 3)\n",
      "Shape of y:  (200, 1)\n",
      "Shape of training set:  (160, 3)\n"
     ]
    }
   ],
   "source": [
    "X = df.iloc[:,1:-1]\n",
    "y = df.iloc[:,-1:]\n",
    "x_train, x_test, y_train, y_test = train_test_split(X, y, train_size= 0.8, random_state = 42)\n",
    "print(\"Shape of X: \", X.shape)\n",
    "print(\"Shape of y: \", y.shape)\n",
    "print(\"Shape of training set: \", x_train.shape)"
   ]
  },
  {
   "cell_type": "code",
   "execution_count": 3,
   "metadata": {},
   "outputs": [
    {
     "name": "stdout",
     "output_type": "stream",
     "text": [
      "[[0.04472952 0.18919505 0.00276111]]\n",
      "[2.97906734]\n",
      "Y = 2.9790673381226256 + 0.044729517468716326x + 0.1891950542343766x^2 + 0.0027611143413672056x^3\n"
     ]
    }
   ],
   "source": [
    "from sklearn.linear_model import LinearRegression\n",
    "\n",
    "trained_data = LinearRegression().fit(x_train,y_train)\n",
    "print(trained_data.coef_)\n",
    "print(trained_data.intercept_)\n",
    "\n",
    "print(\"Y =\",str(trained_data.intercept_[0]),\"+\",str(trained_data.coef_[0][0])+\"x +\",str(trained_data.coef_[0][1])+\"x^2 +\",\n",
    "      str(trained_data.coef_[0][2])+\"x^3\")"
   ]
  },
  {
   "cell_type": "code",
   "execution_count": 4,
   "metadata": {},
   "outputs": [
    {
     "name": "stdout",
     "output_type": "stream",
     "text": [
      "RSS test data: 126.96389415904417\n",
      "RSS train data: 432.82070769302624\n",
      "RSE test data:  1.877970936343592\n",
      "RSE train data:  1.6656805564035793\n",
      "MSE test data:  3.174097353976104\n",
      "MSE train data:  2.705129423081414\n",
      "R2 test data:  0.899438024100912\n",
      "R2 train data:  0.8957008271017817\n"
     ]
    }
   ],
   "source": [
    "import sklearn.metrics\n",
    "\n",
    "y_predict_test = trained_data.predict(x_test)\n",
    "y_predict_train = trained_data.predict(x_train)\n",
    "\n",
    "RSS1 = np.sum((y_predict_test-y_test)**2)\n",
    "print(\"RSS test data:\", np.squeeze(RSS1))\n",
    "RSS2 = np.sum((y_predict_train-y_train)**2)\n",
    "print(\"RSS train data:\", np.squeeze(RSS2))\n",
    "\n",
    "RSE1 = np.sqrt(RSS1/(y_test.shape[0]-4))\n",
    "print(\"RSE test data: \",np.squeeze(RSE1))\n",
    "RSE2 = np.sqrt(RSS2/(y_train.shape[0]-4))\n",
    "print(\"RSE train data: \",np.squeeze(RSE2))\n",
    "\n",
    "MSE = sklearn.metrics.mean_squared_error(y_test,y_predict_test)\n",
    "print(\"MSE test data: \",MSE)\n",
    "MSE = sklearn.metrics.mean_squared_error(y_train,y_predict_train)\n",
    "print(\"MSE train data: \",MSE)\n",
    "\n",
    "R2 = sklearn.metrics.r2_score(y_test,y_predict_test)\n",
    "print(\"R2 test data: \",R2)\n",
    "R2 = sklearn.metrics.r2_score(y_train,y_predict_train)\n",
    "print(\"R2 train data: \",R2)"
   ]
  },
  {
   "cell_type": "code",
   "execution_count": 17,
   "metadata": {},
   "outputs": [
    {
     "name": "stdout",
     "output_type": "stream",
     "text": [
      "Standard Error of TV: 0.0017642122752300397\n",
      "Standard Error of Radio: 0.010059480291554358\n",
      "Standard Error of Newspaper: 0.0012192070242184685\n"
     ]
    }
   ],
   "source": [
    "TV_mean = np.mean(x_train.iloc[:,0])\n",
    "Radio_mean = np.mean(x_train.iloc[:,1])\n",
    "Newspaper_mean = np.mean(x_train.iloc[:,0])\n",
    "\n",
    "TV_sum = 0\n",
    "Radio_sum = 0\n",
    "Newspaper_sum = 0\n",
    "\n",
    "for i in range(x_train.shape[0]):\n",
    "    TV_sum += (x_train.iloc[i,0] - TV_mean)**2\n",
    "    Radio_sum += (x_train.iloc[i,1] - Radio_mean)**2\n",
    "    Newspaper_sum += (x_train.iloc[i,2] - Newspaper_mean)**2\n",
    "\n",
    "std_err_TV = np.sqrt((RSE1**2)/TV_sum)\n",
    "std_err_Radio = np.sqrt((RSE1**2)/Radio_sum)\n",
    "std_err_Newspaper = np.sqrt((RSE1**2)/Newspaper_sum)\n",
    "\n",
    "print(\"Standard Error of TV:\",np.squeeze(std_err_TV))\n",
    "print(\"Standard Error of Radio:\",np.squeeze(std_err_Radio))\n",
    "print(\"Standard Error of Newspaper:\",np.squeeze(std_err_Newspaper))"
   ]
  },
  {
   "cell_type": "code",
   "execution_count": 18,
   "metadata": {},
   "outputs": [
    {
     "name": "stdout",
     "output_type": "stream",
     "text": [
      "t-statistic of TV: 25.353818299945758\n",
      "t-statistic of Radio: 18.807637049919883\n",
      "t-statistic of Newspaper: 2.2646804738818864\n"
     ]
    }
   ],
   "source": [
    "print(\"t-statistic of TV:\",np.squeeze((trained_data.coef_[0][0]-0)/std_err_TV))\n",
    "print(\"t-statistic of Radio:\",np.squeeze((trained_data.coef_[0][1]-0)/std_err_Radio))\n",
    "print(\"t-statistic of Newspaper:\",np.squeeze((trained_data.coef_[0][2]-0)/std_err_Newspaper))"
   ]
  }
 ],
 "metadata": {
  "kernelspec": {
   "display_name": "Python 3",
   "language": "python",
   "name": "python3"
  },
  "language_info": {
   "codemirror_mode": {
    "name": "ipython",
    "version": 3
   },
   "file_extension": ".py",
   "mimetype": "text/x-python",
   "name": "python",
   "nbconvert_exporter": "python",
   "pygments_lexer": "ipython3",
   "version": "3.9.2"
  },
  "orig_nbformat": 4
 },
 "nbformat": 4,
 "nbformat_minor": 2
}
